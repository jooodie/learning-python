{
 "cells": [
  {
   "cell_type": "code",
   "execution_count": 1,
   "id": "6ffe5e5a",
   "metadata": {},
   "outputs": [],
   "source": [
    "# Load our libraries\n",
    "import pandas as pd\n",
    "import numpy as np\n",
    "import matplotlib.pyplot as plt\n",
    "from datetime import datetime\n",
    "import string\n",
    "\n",
    "# Load data\n",
    "dataSet = pd.read_csv(\"datasets/final.csv\", index_col = [0], low_memory = False)"
   ]
  },
  {
   "cell_type": "code",
   "execution_count": 2,
   "id": "dd7a0324",
   "metadata": {},
   "outputs": [
    {
     "name": "stdout",
     "output_type": "stream",
     "text": [
      "Total Datas: (3169996, 14)\n",
      "How many Datas you want to analyze: 10000\n"
     ]
    }
   ],
   "source": [
    "# How many Datas\n",
    "print(f\"Total Datas: {dataSet.shape}\")\n",
    "Input = int(input(\"How many Datas you want to analyze: \"))"
   ]
  },
  {
   "cell_type": "code",
   "execution_count": 3,
   "id": "961b17a0",
   "metadata": {},
   "outputs": [],
   "source": [
    "# Create \"StoreName\" columns based on StoreCode\n",
    "def Store_name(value):\n",
    "    if value == \"19 Below\":\n",
    "        return \"1\"\n",
    "    elif value == \"20~29\":\n",
    "        return \"2\"\n",
    "    elif value == \"30~39\":\n",
    "        return \"3\"\n",
    "    elif value == \"40~49\":\n",
    "        return \"4\"\n",
    "    else:\n",
    "        return \"5\""
   ]
  },
  {
   "cell_type": "code",
   "execution_count": 4,
   "id": "1f3e3c9c",
   "metadata": {},
   "outputs": [],
   "source": [
    "# Create function to format the time stamp to date-time object\n",
    "def get_time(value):\n",
    "    temp = str.replace(value, \"/\", \"-\")\n",
    "    count1 = temp.count(\":\")\n",
    "    if count1 == 1:\n",
    "        temp = temp + \":00\"\n",
    "    return datetime.strptime(temp, \"%Y-%m-%d %H:%M:%S\")"
   ]
  },
  {
   "cell_type": "code",
   "execution_count": 6,
   "id": "1d231487",
   "metadata": {},
   "outputs": [],
   "source": [
    "# Choose Age\n",
    "dataSet[\"AgeCode\"] = dataSet[\"Age\"].head(Input).apply(Store_name)\n",
    "dataSet[\"TimeEnter\"] = dataSet[\"EnterTime\"].head(Input).apply(get_time)\n",
    "dataSet[\"TimeLeave\"] = dataSet[\"LeaveTime\"].head(Input).apply(get_time)"
   ]
  },
  {
   "cell_type": "code",
   "execution_count": 7,
   "id": "b4438bcd",
   "metadata": {},
   "outputs": [],
   "source": [
    "# How many hours spent\n",
    "dataSet[\"Spend(hours)\"] = ((dataSet[\"TimeLeave\"] - dataSet[\"TimeEnter\"]) / np.timedelta64(1, \"s\")) / 3600\n",
    "\n",
    "age = [\"19 Below\", \"20~29\", \"30~39\", \"40~49\", \"50 Above\"] # label\n",
    "spend = [0, 0, 0, 0, 0]\n",
    "count = [0, 0, 0, 0, 0]\n",
    "average = [0, 0, 0, 0, 0]\n",
    "\n",
    "data1 = dataSet[(dataSet[\"AgeCode\"] == \"1\")]\n",
    "data2 = dataSet[(dataSet[\"AgeCode\"] == \"2\")]\n",
    "data3 = dataSet[(dataSet[\"AgeCode\"] == \"3\")]\n",
    "data4 = dataSet[(dataSet[\"AgeCode\"] == \"4\")]\n",
    "data5 = dataSet[(dataSet[\"AgeCode\"] == \"5\")]"
   ]
  },
  {
   "cell_type": "code",
   "execution_count": 8,
   "id": "85050d87",
   "metadata": {},
   "outputs": [],
   "source": [
    "for i in dataSet[\"AgeCode\"]:\n",
    "    if i == \"1\":\n",
    "        count[0] += 1\n",
    "        for i in data1[\"Spend(hours)\"]:\n",
    "            spend[0] += float(i)\n",
    "    elif i == \"2\":\n",
    "        count[1] += 1\n",
    "        for i in data2[\"Spend(hours)\"]:\n",
    "            spend[1] += float(i)\n",
    "    elif i == \"3\":\n",
    "        count[2] += 1\n",
    "        for i in data3[\"Spend(hours)\"]:\n",
    "            spend[2] += float(i)\n",
    "    elif i == \"4\":\n",
    "        count[3] += 1\n",
    "        for i in data4[\"Spend(hours)\"]:\n",
    "            spend[3] += float(i)\n",
    "    elif i == \"5\":\n",
    "        count[4] += 1\n",
    "        for i in data5[\"Spend(hours)\"]:\n",
    "            spend[4] += float(i)\n",
    "\n",
    "spend[0] /= len(data1[\"Spend(hours)\"])\n",
    "spend[1] /= len(data2[\"Spend(hours)\"])\n",
    "spend[2] /= len(data3[\"Spend(hours)\"])\n",
    "spend[3] /= len(data4[\"Spend(hours)\"])\n",
    "spend[4] /= len(data5[\"Spend(hours)\"])"
   ]
  },
  {
   "cell_type": "code",
   "execution_count": 9,
   "id": "aac7a0b9",
   "metadata": {},
   "outputs": [],
   "source": [
    "# 花費時間取小數點第二位\n",
    "for i in range(len(spend)):\n",
    "    spend[i] = round(spend[i], 2)"
   ]
  },
  {
   "cell_type": "code",
   "execution_count": 10,
   "id": "acf25b91",
   "metadata": {},
   "outputs": [
    {
     "name": "stdout",
     "output_type": "stream",
     "text": [
      "count: [269, 2104, 5373, 1692, 562]\n",
      "spend: [1081.17, 8722.87, 23801.32, 7670.37, 2475.12]\n",
      "average: [4.02, 4.15, 4.43, 4.53, 4.4]\n"
     ]
    }
   ],
   "source": [
    "# 平均值取小數第二位\n",
    "#total spent time / total people in same age\n",
    "for i in range(len(average)):\n",
    "    average[i] = spend[i] / count[i]\n",
    "    average[i] = round(average[i], 2)\n",
    "print(f\"count: {count}\")\n",
    "print(f\"spend: {spend}\")\n",
    "print(f\"average: {average}\")\n",
    "color = ['r', 'b', 'g', 'y', 'm']"
   ]
  },
  {
   "cell_type": "code",
   "execution_count": 11,
   "id": "a2b3a83b",
   "metadata": {},
   "outputs": [
    {
     "data": {
      "image/png": "[encoded data removed]",
      "text/plain": [
       "<Figure size 640x480 with 1 Axes>"
      ]
     },
     "metadata": {},
     "output_type": "display_data"
    }
   ],
   "source": [
    "for i in range(0, 5):\n",
    "    plt.bar(age[i], average[i], color = color[i], width = 0.5)\n",
    "plt.title(\"Different Age && Spend\")  # title\n",
    "plt.xlabel(\"Age\")   # x label\n",
    "plt.ylabel(\"Average hours\") # y label\n",
    "plt.show()"
   ]
  }
 ],
 "metadata": {
  "kernelspec": {
   "display_name": "Python 3 (ipykernel)",
   "language": "python",
   "name": "python3"
  },
  "language_info": {
   "codemirror_mode": {
    "name": "ipython",
    "version": 3
   },
   "file_extension": ".py",
   "mimetype": "text/x-python",
   "name": "python",
   "nbconvert_exporter": "python",
   "pygments_lexer": "ipython3",
   "version": "3.10.6"
  }
 },
 "nbformat": 4,
 "nbformat_minor": 5
}
