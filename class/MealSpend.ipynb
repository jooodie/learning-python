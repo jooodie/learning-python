{
 "cells": [
  {
   "cell_type": "code",
   "execution_count": 12,
   "id": "0d5d852b",
   "metadata": {},
   "outputs": [],
   "source": [
    "# Load our libraries\n",
    "import pandas as pd\n",
    "import numpy as np\n",
    "import matplotlib.pyplot as plt\n",
    "from datetime import datetime\n",
    "import string\n",
    "\n",
    "# Load data\n",
    "dataSet = pd.read_csv(\"datasets/final.csv\", index_col = [0], low_memory = False)"
   ]
  },
  {
   "cell_type": "code",
   "execution_count": 13,
   "id": "819745fa",
   "metadata": {},
   "outputs": [
    {
     "name": "stdout",
     "output_type": "stream",
     "text": [
      "Total Datas: (3169996, 14)\n",
      "How many Datas you want to analyze: 10000\n"
     ]
    }
   ],
   "source": [
    "# How many Datas\n",
    "print(f\"Total Datas: {dataSet.shape}\")\n",
    "Input = int(input(\"How many Datas you want to analyze: \"))"
   ]
  },
  {
   "cell_type": "code",
   "execution_count": 14,
   "id": "ecdf87e1",
   "metadata": {},
   "outputs": [],
   "source": [
    "# Create \"StoreName\" columns based on StoreCode\n",
    "def Store_name(value):\n",
    "    if value == \"19 Below\":\n",
    "        return \"1\"\n",
    "    elif value == \"20~29\":\n",
    "        return \"2\"\n",
    "    elif value == \"30~39\":\n",
    "        return \"3\"\n",
    "    elif value == \"40~49\":\n",
    "        return \"4\"\n",
    "    else:\n",
    "        return \"5\""
   ]
  },
  {
   "cell_type": "code",
   "execution_count": 15,
   "id": "7cbf221c",
   "metadata": {},
   "outputs": [],
   "source": [
    "# Choose Age\n",
    "dataSet[\"AgeCode\"] = dataSet[\"Age\"].head(Input).apply(Store_name)"
   ]
  },
  {
   "cell_type": "code",
   "execution_count": 16,
   "id": "1037df4f",
   "metadata": {},
   "outputs": [],
   "source": [
    "#assign variable\n",
    "age = [\"19 Below\", \"20~29\", \"30~39\", \"40~49\", \"50 Above\"] # label\n",
    "spend = [0, 0, 0, 0, 0]\n",
    "count = [0, 0, 0, 0, 0]\n",
    "average = [0, 0, 0, 0, 0]\n",
    "\n",
    "data1 = dataSet[(dataSet[\"AgeCode\"] == \"1\")]\n",
    "data2 = dataSet[(dataSet[\"AgeCode\"] == \"2\")]\n",
    "data3 = dataSet[(dataSet[\"AgeCode\"] == \"3\")]\n",
    "data4 = dataSet[(dataSet[\"AgeCode\"] == \"4\")]\n",
    "data5 = dataSet[(dataSet[\"AgeCode\"] == \"5\")]"
   ]
  },
  {
   "cell_type": "code",
   "execution_count": 17,
   "id": "543d22d9",
   "metadata": {},
   "outputs": [],
   "source": [
    "for i in dataSet[\"AgeCode\"]:\n",
    "    if i == \"1\":\n",
    "        count[0] += 1\n",
    "        for i in data1[\"MealSpending\"]:\n",
    "            spend[0] += int(i)\n",
    "    elif i == \"2\":\n",
    "        count[1] += 1\n",
    "        for i in data2[\"MealSpending\"]:\n",
    "            spend[1] += int(i)\n",
    "    elif i == \"3\":\n",
    "        count[2] += 1\n",
    "        for i in data3[\"MealSpending\"]:\n",
    "            spend[2] += int(i)\n",
    "    elif i == \"4\":\n",
    "        count[3] += 1\n",
    "        for i in data4[\"MealSpending\"]:\n",
    "            spend[3] += int(i)\n",
    "    elif i == \"5\":\n",
    "        count[4] += 1\n",
    "        for i in data5[\"MealSpending\"]:\n",
    "            spend[4] += int(i)"
   ]
  },
  {
   "cell_type": "code",
   "execution_count": 18,
   "id": "41c14bb3",
   "metadata": {},
   "outputs": [],
   "source": [
    "#count average\n",
    "spend[0] /= len(data1[\"MealSpending\"])\n",
    "spend[1] /= len(data2[\"MealSpending\"])\n",
    "spend[2] /= len(data3[\"MealSpending\"])\n",
    "spend[3] /= len(data4[\"MealSpending\"])\n",
    "spend[4] /= len(data5[\"MealSpending\"])"
   ]
  },
  {
   "cell_type": "code",
   "execution_count": 19,
   "id": "b8abb483",
   "metadata": {},
   "outputs": [],
   "source": [
    "# 花費時間取小數點第二位\n",
    "for i in range(len(spend)):\n",
    "    spend[i] = round(spend[i], 2)"
   ]
  },
  {
   "cell_type": "code",
   "execution_count": 20,
   "id": "27ceb8a0",
   "metadata": {},
   "outputs": [
    {
     "name": "stdout",
     "output_type": "stream",
     "text": [
      "count: [269, 2104, 5373, 1692, 562]\n",
      "spend: [49992.0, 534637.0, 1434030.0, 452382.0, 123190.0]\n",
      "average: [185.84, 254.11, 266.9, 267.37, 219.2]\n"
     ]
    }
   ],
   "source": [
    "# 平均值取小數第二位\n",
    "for i in range(len(average)):\n",
    "    average[i] = spend[i] / count[i]\n",
    "    average[i] = round(average[i], 2)\n",
    "print(f\"count: {count}\")\n",
    "print(f\"spend: {spend}\")\n",
    "print(f\"average: {average}\")\n",
    "color = ['r', 'b', 'g', 'y', 'm']"
   ]
  },
  {
   "cell_type": "code",
   "execution_count": 21,
   "id": "1aa1846b",
   "metadata": {},
   "outputs": [
    {
     "data": {
      "image/png": "[encoded data removed]",
      "text/plain": [
       "<Figure size 640x480 with 1 Axes>"
      ]
     },
     "metadata": {},
     "output_type": "display_data"
    }
   ],
   "source": [
    "for i in range(0, 5):\n",
    "    plt.bar(age[i], average[i], color = color[i], width = 0.5)\n",
    "plt.title(\"Different Age && MealSpending\")  # title\n",
    "plt.xlabel(\"Age\")   # x label\n",
    "plt.ylabel(\"Average MealSpending(money)\") # y label\n",
    "plt.show()"
   ]
  }
 ],
 "metadata": {
  "kernelspec": {
   "display_name": "Python 3 (ipykernel)",
   "language": "python",
   "name": "python3"
  },
  "language_info": {
   "codemirror_mode": {
    "name": "ipython",
    "version": 3
   },
   "file_extension": ".py",
   "mimetype": "text/x-python",
   "name": "python",
   "nbconvert_exporter": "python",
   "pygments_lexer": "ipython3",
   "version": "3.10.6"
  }
 },
 "nbformat": 4,
 "nbformat_minor": 5
}
