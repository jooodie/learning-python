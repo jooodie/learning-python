{
 "cells": [
  {
   "cell_type": "code",
   "execution_count": 2,
   "id": "1794cc31",
   "metadata": {},
   "outputs": [],
   "source": [
    "# Load our libraries\n",
    "import pandas as pd\n",
    "import numpy as np\n",
    "import matplotlib.pyplot as plt\n",
    "from datetime import datetime\n",
    "import string\n",
    "\n",
    "# Load data\n",
    "dataSet = pd.read_csv(\"datasets/final.csv\", index_col = [0], low_memory = False)"
   ]
  },
  {
   "cell_type": "code",
   "execution_count": 3,
   "id": "c9358b97",
   "metadata": {},
   "outputs": [],
   "source": [
    "# Create \"StoreName\" columns based on StoreCode\n",
    "def Store_name(value):\n",
    "    if value == \"19 Below\":\n",
    "        return \"1\"\n",
    "    elif value == \"20~29\":\n",
    "        return \"2\"\n",
    "    elif value == \"30~39\":\n",
    "        return \"3\"\n",
    "    elif value == \"40~49\":\n",
    "        return \"4\"\n",
    "    else:\n",
    "        return \"5\""
   ]
  },
  {
   "cell_type": "code",
   "execution_count": 4,
   "id": "4981a734",
   "metadata": {},
   "outputs": [
    {
     "name": "stdout",
     "output_type": "stream",
     "text": [
      "Total Datas: (3169996, 14)\n",
      "How many Datas you want to analyze: 10000\n"
     ]
    }
   ],
   "source": [
    "# How many Datas\n",
    "print(f\"Total Datas: {dataSet.shape}\")\n",
    "Input = int(input(\"How many Datas you want to analyze: \"))"
   ]
  },
  {
   "cell_type": "code",
   "execution_count": 5,
   "id": "ec8c6bf0",
   "metadata": {},
   "outputs": [],
   "source": [
    "# Choose Age\n",
    "dataSet[\"AgeCode\"] = dataSet[\"Age\"].head(Input).apply(Store_name)\n",
    "\n",
    "age = [\"19 Below\", \"20~29\", \"30~39\", \"40~49\", \"50 Above\"] # label\n",
    "box = [[0, 0, 0, 0], [0, 0, 0, 0], [0, 0, 0, 0], [0, 0, 0, 0], [0, 0, 0, 0]]\n",
    "count = [0, 0, 0, 0, 0]"
   ]
  },
  {
   "cell_type": "code",
   "execution_count": 6,
   "id": "d4cc2670",
   "metadata": {},
   "outputs": [],
   "source": [
    "data1 = dataSet[(dataSet[\"AgeCode\"] == \"1\")]\n",
    "for i in data1[\"BoxSize\"]:\n",
    "    if i == \"Small box\":\n",
    "        box[0][0] += 1\n",
    "    elif i == \"Medium box\":\n",
    "        box[0][1] += 1\n",
    "    elif i == \"Big box\":\n",
    "        box[0][2] += 1\n",
    "    else:\n",
    "        box[0][3] += 1\n",
    "data2 = dataSet[(dataSet[\"AgeCode\"] == \"2\")]\n",
    "for i in data2[\"BoxSize\"]:\n",
    "    if i == \"Small box\":\n",
    "        box[1][0] += 1\n",
    "    elif i == \"Medium box\":\n",
    "        box[1][1] += 1\n",
    "    elif i == \"Big box\":\n",
    "        box[1][2] += 1\n",
    "    else:\n",
    "        box[1][3] += 1\n",
    "data3 = dataSet[(dataSet[\"AgeCode\"] == \"3\")]\n",
    "for i in data3[\"BoxSize\"]:\n",
    "    if i == \"Small box\":\n",
    "        box[2][0] += 1\n",
    "    elif i == \"Medium box\":\n",
    "        box[2][1] += 1\n",
    "    elif i == \"Big box\":\n",
    "        box[2][2] += 1\n",
    "    else:\n",
    "        box[2][3] += 1\n",
    "data4 = dataSet[(dataSet[\"AgeCode\"] == \"4\")]\n",
    "for i in data4[\"BoxSize\"]:\n",
    "    if i == \"Small box\":\n",
    "        box[3][0] += 1\n",
    "    elif i == \"Medium box\":\n",
    "        box[3][1] += 1\n",
    "    elif i == \"Big box\":\n",
    "        box[3][2] += 1\n",
    "    else:\n",
    "        box[3][3] += 1\n",
    "data5 = dataSet[(dataSet[\"AgeCode\"] == \"5\")]"
   ]
  },
  {
   "cell_type": "code",
   "execution_count": 7,
   "id": "a9c0aed5",
   "metadata": {},
   "outputs": [],
   "source": [
    "for i in data5[\"BoxSize\"]:\n",
    "    if i == \"Small box\":\n",
    "        box[4][0] += 1\n",
    "    elif i == \"Medium box\":\n",
    "        box[4][1] += 1\n",
    "    elif i == \"Big box\":\n",
    "        box[4][2] += 1\n",
    "    else:\n",
    "        box[4][3] += 1\n",
    "for i in dataSet[\"AgeCode\"]:\n",
    "    if i == \"1\":\n",
    "        count[0] += 1\n",
    "    elif i == \"2\":\n",
    "        count[1] += 1\n",
    "    elif i == \"3\":\n",
    "        count[2] += 1\n",
    "    elif i == \"4\":\n",
    "        count[3] += 1\n",
    "    elif i == \"5\":\n",
    "        count[4] += 1"
   ]
  },
  {
   "cell_type": "code",
   "execution_count": 8,
   "id": "62d610b3",
   "metadata": {},
   "outputs": [
    {
     "name": "stdout",
     "output_type": "stream",
     "text": [
      "count: [269, 2104, 5373, 1692, 562]\n",
      "spend: [[130, 125, 2, 12], [1140, 554, 32, 378], [2309, 1604, 323, 1137], [659, 511, 106, 416], [180, 176, 0, 206]]\n"
     ]
    }
   ],
   "source": [
    "print(f\"count: {count}\")\n",
    "print(f\"spend: {box}\")"
   ]
  },
  {
   "cell_type": "code",
   "execution_count": 9,
   "id": "a1fe3fb4",
   "metadata": {},
   "outputs": [
    {
     "name": "stdout",
     "output_type": "stream",
     "text": [
      "data: [['19 Below', 130, 125, 2, 12], ['20~29', 1140, 554, 32, 378], ['30~39', 2309, 1604, 323, 1137], ['40~49', 659, 511, 106, 416], ['50 Above', 180, 176, 0, 206]]\n"
     ]
    }
   ],
   "source": [
    "data = []\n",
    "for i in range(len(age)):\n",
    "    data.append([])\n",
    "    data[i].append(age[i])\n",
    "    for j in range(len(box[i])):\n",
    "        data[i].append(box[i][j])\n",
    "print(f\"data: {data}\")"
   ]
  },
  {
   "cell_type": "code",
   "execution_count": 10,
   "id": "e8fb22b9",
   "metadata": {},
   "outputs": [
    {
     "data": {
      "image/png": "[encoded data removed]",
      "text/plain": [
       "<Figure size 640x480 with 1 Axes>"
      ]
     },
     "metadata": {},
     "output_type": "display_data"
    }
   ],
   "source": [
    "df = pd.DataFrame(data, columns = [\"Age\", \"Small Box\", \"Medium box\", \"Big box\", \"PARTY big box\"])\n",
    "df.plot(x = \"Age\", y = [\"Small Box\", \"Medium box\", \"Big box\", \"PARTY big box\"], kind = \"bar\")\n",
    "plt.title(\"Different Age && BoxSize\")  # title\n",
    "plt.xlabel(\"Age\")   # x label\n",
    "plt.ylabel(\"Box Count\") # y label\n",
    "plt.show()"
   ]
  }
 ],
 "metadata": {
  "kernelspec": {
   "display_name": "Python 3 (ipykernel)",
   "language": "python",
   "name": "python3"
  },
  "language_info": {
   "codemirror_mode": {
    "name": "ipython",
    "version": 3
   },
   "file_extension": ".py",
   "mimetype": "text/x-python",
   "name": "python",
   "nbconvert_exporter": "python",
   "pygments_lexer": "ipython3",
   "version": "3.10.6"
  }
 },
 "nbformat": 4,
 "nbformat_minor": 5
}
